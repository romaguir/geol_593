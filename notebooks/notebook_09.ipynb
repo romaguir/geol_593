{
 "cells": [
  {
   "cell_type": "markdown",
   "id": "8251c40c",
   "metadata": {},
   "source": [
    "# GEOL 593: Seismology and Earth (*and Mars*) Structure\n",
    "\n",
    "## Lab assignment 9: InSight- Seismology on Mars"
   ]
  },
  {
   "cell_type": "markdown",
   "id": "2dc14170",
   "metadata": {},
   "source": [
    "### Locating Marsquakes\n",
    "\n",
    "On Earth, the classical problem of earthquake hypocenter location is solved using triangulation, which requires a network of seismic instruments. Based on the time it takes for waves to reach different seismic stations, an earthquake location can be determined, provided a seismic velocity model. On Mars, we only have a single seismometer, so we can not use triangulation. Instead, we need to make use of knowledge on the *polarization* of seismic waves, along with apriori models of the subsurface velocities in the crust and mantle.\n",
    "\n",
    "In part 1 of this lab, you will be locating the event S0235, which is one of a handful of Quality A Broadband family events that were recorded by InSight's seismometer SEIS during the mission. SEIS data from InSight can be accessed through Obspy's IRIS client, just like you have been using for Earth data! You can browse the full catalog of marsquakes using the IRIS DMC Mars-events tool (http://ds.iris.edu/ds/nodes/dmc/tools/mars-events/)"
   ]
  },
  {
   "cell_type": "markdown",
   "id": "f5e53a49",
   "metadata": {},
   "source": [
    "###  <font color='red'>Question 1 </font>\n",
    "\n",
    "**Use Obspy to download data from S0235b. The time series should start at the event origin time, and last a total of 600 s. According to the Marsquake Service (MQS), the origin time of S0235b is UTC 2019/07/26 12:16:03. Plot the raw data stream with `st.plot()`**\n",
    "\n",
    "The network code for InSight is `XB` and the station is named `ELYSE`. To download the broadband data from SEIS, use the channel code `BH*`. The location code can be set to `*`.\n",
    "\n",
    "*Hint*. Look at how we downloaded data in previous labs, and use that as a guide. Also, you can look at the documentation for obspy's Client.get_waveforms function here: https://docs.obspy.org/packages/autogen/obspy.clients.fdsn.client.Client.get_waveforms.html"
   ]
  },
  {
   "cell_type": "code",
   "execution_count": 1,
   "id": "12a12e94",
   "metadata": {},
   "outputs": [],
   "source": [
    "#imports\n",
    "import obspy\n",
    "import numpy as np\n",
    "import matplotlib.pyplot as plt\n",
    "from obspy.clients.fdsn import Client\n",
    "from obspy import UTCDateTime\n",
    "from obspy.geodetics import gps2dist_azimuth\n",
    "%matplotlib inline"
   ]
  },
  {
   "cell_type": "code",
   "execution_count": 2,
   "id": "cb787b32",
   "metadata": {},
   "outputs": [],
   "source": [
    "#Answer Q1 here."
   ]
  },
  {
   "cell_type": "code",
   "execution_count": 3,
   "id": "612a2db6",
   "metadata": {},
   "outputs": [],
   "source": [
    "def remove_response_and_rotate_to_zne(st,client):\n",
    "    inv = client.get_stations(network='XB',station='ELYSE',channel='BH*',level='response')\n",
    "    \n",
    "    stc = st.copy()\n",
    "    \n",
    "    #remove instrument response\n",
    "    stc.detrend(type='demean')\n",
    "    stc.taper(0.1)\n",
    "    stc.detrend()\n",
    "    stc.remove_response(inv, pre_filt=(0.01, 0.02, 5, 10), output='VEL') #output to velocity\n",
    "\n",
    "    #rotate\n",
    "    st_rot = stc.copy()\n",
    "    st_rot._rotate_to_zne(inv, components=('UVW'))\n",
    "    \n",
    "    return st_rot"
   ]
  },
  {
   "cell_type": "markdown",
   "id": "9d29bbcf",
   "metadata": {},
   "source": [
    "###  <font color='red'>Question 2 </font>\n",
    "\n",
    "The data you raw data that you downloaded needs some processing before we can make any sense of it. First, the data is still in raw 'counts', so we need to remove the instrument response to get the data into units of real ground motion. Also, the channels that you downloaded (BHU,BHV,BHW) are not in the correct coordinate system. We need to rotate the data to get to the Z, N, and E components we are used to dealing with. Above, the function `remove_response_and_rotate_to_zne` is provided to process the raw SEIS data and convert to velocity in Z,N, and E directions. After removing the instrument response and rotating to ZNE, the marsquake signal will still not look very clear. This is because the noise levels at long period are relatively high, so the marsquake signals appear to ride on longer period energy. The dominant energy of S0235b is between roughly 2 - 8 s. \n",
    "\n",
    "\n",
    "**1) Use the `remove_response_and_rotate_to_zne` function to process your raw stream data.**\n",
    "\n",
    "**2) Filter the data between 2 - 8 s using a bandpass filter. For the filter parameters, set `corners=4` and `zerophase=False`.**\n",
    "\n",
    "**3) Make a figure showing bandpass filtered data of S0235b. Use 3 separate axes, one for each channel (BHZ, BHE, BHN). Make sure to provide labels.**"
   ]
  },
  {
   "cell_type": "code",
   "execution_count": 4,
   "id": "4e6887cf",
   "metadata": {},
   "outputs": [],
   "source": [
    "#Answer Q2 here."
   ]
  },
  {
   "cell_type": "markdown",
   "id": "8d61555b",
   "metadata": {},
   "source": [
    "###  <font color='red'>Question 3 </font>\n",
    "\n",
    "In the plot above, you should see two distinct arrivals corresponding to the P-wave and S-wave. The P-wave is most prominent on BHZ, but is also present on BHE and BHN. The S-wave is the largest signal and is clear on all channels. The difference between the times (i.e., S - P) is related to the epicentral distance.\n",
    "\n",
    "**1)From your plot above, calculate the S - P time of S0235b. The travel time picks of each phase should be based on the onset of the energy.**\n",
    "\n",
    "\n",
    "**2) The file `../data/lab_09/tt_table.dat` includes the predicted P and S wave travel times as a function of epicentral distance based on an assumed seismic velocity profile of Mars. They also assume a shallow source. The file contains 3 columns, given as epicentral distance (in degrees), P wave travel time (in seconds), and S wave travel time (in seconds). Use the S - P time you observed above to estimate the epicentral distance of S0235b.**\n",
    "\n",
    "Note, the reason you need to use S - P time (instead of just P-time or S-time individually), is because you don't know the origin time for certain! The origin time is based on the estimated epicentral distance.\n",
    "\n",
    "*Hint- The exact S-P time you observed is not likely to be present in the table. You will need to interpolate the predicted S-P times from `tt_table.dat` to find the epicentral distance that your observed S-P time corresponds to. You can do this with numpy.interp*\n"
   ]
  },
  {
   "cell_type": "code",
   "execution_count": 5,
   "id": "dc7a9de3",
   "metadata": {},
   "outputs": [],
   "source": [
    "#Answer Q3 here."
   ]
  },
  {
   "cell_type": "markdown",
   "id": "0e2c54b6",
   "metadata": {},
   "source": [
    "###  <font color='red'>Question 4 </font>\n",
    "\n",
    "Once the epicentral distance has been determined, the next step is to determine the direction from the station to the marsquake (called the 'back azimuth'). One method for calculating the back azimuth is to try different rotation angles, and determine which one maximizes the P-wave energy on the radial component. This approach is based on the fact that the P-wave is polarized in the plane that connects the source and receiver. However, there are two possible rotation angles (180-degrees apart) that will maximimize the P-wave energy on the radial component. To resolve this 180-degree ambiguity, we can recognize that the rotation angle that corresponds to the correct back azimuth will give a positive correlation between the vertical and radial components. Below, a 'psuedocode' for how this algorithm works is provided.\n",
    "\n",
    "1. Window the P-wave arrival of the stream.\n",
    "\n",
    "2. Make a vector of possible rotation angles ranging from from 0 to 360. \n",
    "\n",
    "3. Loop over the angles, and apply a rotation from the north (N) and east (E) coordinates to radial (R) and transverse (T) using the proposed angle as the back azimuth (see https://docs.obspy.org/packages/autogen/obspy.core.stream.Stream.rotate.html)\n",
    "\n",
    "4. For each rotation angle, calculate the maximum of the envelope of the radial component, and store this value in a list.\n",
    "\n",
    "5. For each rotation angle, calculate the correlation coefficient (e.g. with `numpy.correlate`) between the radial and vertical components. Store this value in a list.\n",
    "\n",
    "6. Plot the two lists (containing the envelope maxima and correlation coefficients) as a function of rotation angle. The rotation angle that corresponds to the correct back azimuth should have a peak in the envelope maxima function, and a positive correlation coefficient.\n",
    "\n",
    "**Code up the algorithm above to determine the back-azimuth of S0235b. Window the P arrival starting 5 s before the onset and 20 s after the onset (total window length of 25 s)**.\n",
    "\n",
    "*Hint- use the function Stream.trim() to window the P-wave arrival. This function needs the UTCDateTime of the window start and end time.*"
   ]
  },
  {
   "cell_type": "code",
   "execution_count": 6,
   "id": "d8f33603",
   "metadata": {},
   "outputs": [],
   "source": [
    "#Answer Q4 here."
   ]
  },
  {
   "cell_type": "code",
   "execution_count": 7,
   "id": "51d2e85d",
   "metadata": {},
   "outputs": [],
   "source": [
    "import pyproj\n",
    "\n",
    "def calc_event_coordinates(dist_deg,back_az):\n",
    "    '''\n",
    "    inputs:\n",
    "    dist_deg- epicentral distance in degrees\n",
    "    back_az- back azimuth in degrees\n",
    "    '''\n",
    "\n",
    "    # Define starting point coordinates\n",
    "    start_lon, start_lat = 135.62, 4.50  # insight coordinates\n",
    "\n",
    "    # Define distance (in km)\n",
    "    mars_radius = 3389.5  # km\n",
    "    km_per_deg = (2*np.pi*mars_radius)/360.\n",
    "    distance_km = dist_deg * km_per_deg\n",
    "\n",
    "    # Calculate endpoint using pyproj\n",
    "    distance_in_meters = distance_km * 1000\n",
    "\n",
    "    ev_lon,ev_lat,az = pyproj.Geod(a=mars_radius*1000., b=mars_radius*1000.).fwd(\n",
    "        start_lon, start_lat, back_az, distance_in_meters)\n",
    "\n",
    "    return ev_lon,ev_lat"
   ]
  },
  {
   "cell_type": "markdown",
   "id": "12dbf333",
   "metadata": {},
   "source": [
    "###  <font color='red'>Question 5 </font>\n",
    "\n",
    "**1. Use the function above `calc_event_coordinates` to calculate the location of S0235b on Mars, based on your estimated distance and back azimuth.**\n",
    "\n",
    "**2. The MQS reported location of S0235b is lon=160.0, lat=11.49. How does you value compare with this? What are some sources of uncertainty in the analysis that could account for differences? (think about what parameters the distance and back azimuth determinations are sensitive to)**"
   ]
  },
  {
   "cell_type": "code",
   "execution_count": 8,
   "id": "b22bde70",
   "metadata": {},
   "outputs": [],
   "source": [
    "#Answer Q5 here."
   ]
  }
 ],
 "metadata": {
  "kernelspec": {
   "display_name": "Python 3 (ipykernel)",
   "language": "python",
   "name": "python3"
  },
  "language_info": {
   "codemirror_mode": {
    "name": "ipython",
    "version": 3
   },
   "file_extension": ".py",
   "mimetype": "text/x-python",
   "name": "python",
   "nbconvert_exporter": "python",
   "pygments_lexer": "ipython3",
   "version": "3.8.15"
  }
 },
 "nbformat": 4,
 "nbformat_minor": 5
}
