{
 "cells": [
  {
   "cell_type": "markdown",
   "metadata": {},
   "source": [
    "# GEOL 593: Seismology and Earth Structure\n",
    "\n",
    "## Lab assignment 3: Linear inverse theory\n",
    "\n",
    "Today's lab is split into two parts. In part 1, we will explore fitting climate data using a linear least-squares model (not seismic data I know, but it is a time series!). The dataset consists of daily temperature records at Hubbard Brook New Hampshire, extending back more than 60 years. Our goal is to analyze the data for any signals of long term climate trends. In part 2, we will estimate a moment tensor solution from 'pretend' seismic data. This example is far simpler than how seismologists typically constrain moment tensors in practice, but it should serve as a good introduction to the topic. Before we start, let's review how linear least squares regression works.\n",
    "\n",
    "### Review of linear least-squares regression\n",
    "\n",
    "One of the simplest aprroaches to curve fitting is linear least-squares regression. In this method, it is assumed that your data $\\mathbf{d}$ can be modeled by a linear combination of some unknown model parameters $\\mathbf{m}$. The most straightforward example of this is fitting a straight line to scattered data points. Mathematicaly, this can be written\n",
    "\n",
    "$d_{i} = m_{1} + m_{2}x_{i}$\n",
    "\n",
    "where $d_{i}$ is the value of the $i^{th}$ data point, $x_{i}$ is the value of the independent variable $x$ at index $i$, and $m_{1}$ and $m_{2}$ are your unknown \"model parameters\", which in this case represent the y-intercept and the slope of you best fitting line, respectively. This equation represents a matrix-vector system, which can be solved for the unknown model parameters. The individual elements of the matrix-vector system are shown below\n",
    "\n",
    "$\\begin{bmatrix} d_1 \\\\ d_2 \\\\ d_3 \\\\ \\vdots \\\\ d_N \\end{bmatrix} = \\begin{bmatrix} 1 & x_1 \\\\ 1 & x_2 \\\\ 1 & x_3 \\\\ \\vdots & \\vdots \\\\ 1 & x_N \\end{bmatrix} \\begin{bmatrix} m_1 \\\\ m_2 \\end{bmatrix} $\n",
    "\n",
    "or, rewriting the data vector as $\\mathbf{d}$, the data 'kernel' (also referred to as the sensitivity matrix) as $\\mathbf{G}$, and the model vector as $\\mathbf{m}$:\n",
    "\n",
    "$\\mathbf{d} = \\mathbf{G} \\mathbf{m} $\n",
    "\n",
    "This equation is the foundation of linear inverse theory. It can be solved in a variety of ways, but here we will focus the \"least-squares\" solution, which is one of the most common. The least-squares solution is the solution that minimizes the sum of the squared residuals (i.e., the misfit between your model prediction and your data). Mathematically, the least squares solution to the matrix vector system above is given as\n",
    "\n",
    "$\\mathbf{m}^{lsq} = \\left[ \\mathbf{G}^T \\mathbf{G} \\right] ^{-1} \\mathbf{G}^{T}\\mathbf{d}$\n",
    "\n",
    "where $\\mathbf{m}^{lsq}$ is the solution vector, and the superscripts $^{T}$ and $^{-1}$ indicate the matrix transpose and inverse, respectively. In this exercise, we will perform these matrix operations using the python library numpy. \n",
    "\n",
    "\n",
    "### Extra resources\n",
    "[Essence of Linear Alebgra, by ThreeBlueOneBrown](https://www.youtube.com/playlist?list=PLZHQObOWTQDPD3MizzM2xVFitgF8hE_ab): Excellent visual overview of basic matrix and vector operations.\n",
    "\n",
    "[pythoncheatsheet.org](https://www.pythoncheatsheet.org/): Handy resource for an overview of the python language.\n",
    "\n",
    "[matplotlib users guide](https://matplotlib.org/stable/users/index.html): Official documentation of matplotlib, including many examples."
   ]
  },
  {
   "cell_type": "markdown",
   "metadata": {},
   "source": [
    "## Part 1, Modeling 60+ years of climate data from the Hubbard Brook Experimental Forest\n",
    "\n",
    "The Hubbard Brook Experimental Forest in the White Mountains of New Hampshire is a unique \"natural laboratory\" that has been used for ecological research since 1955. Starting shortly after its inception, continous records of many types of data have been made, including observations of temperature, hydrology (e.g., stream flow), soil geochemistry, and even plant and animal species inventories. This data provides an exceptional opportunity to study how the environment at a single location on Earth has changed in recent history, and can help inform us about how the planet responds to a changing climate.\n",
    "\n",
    "Below, we will explore some of the Hubbard Brook time series data. In particular, we will analyze continuous temperature data that has been collected since 1955, and use this data to construct a simple model of how the temperature has changed during the time of this experiment. \n",
    "\n"
   ]
  },
  {
   "cell_type": "markdown",
   "metadata": {},
   "source": [
    "### Import statements"
   ]
  },
  {
   "cell_type": "code",
   "execution_count": 1,
   "metadata": {},
   "outputs": [],
   "source": [
    "import numpy as np #library for basic numerical operations\n",
    "import matplotlib.pyplot as plt #plotting toolkit\n",
    "import obspy #we will use this for the moment tensor inversion problem\n",
    "%matplotlib inline"
   ]
  },
  {
   "cell_type": "markdown",
   "metadata": {},
   "source": [
    "### Loading the data with pandas\n",
    "Pandas is a powerful python toolbox for reading, writing, and manipulating data in a variety of formats. Here, the data we will use is openly available through the [Hubbard Brook Data Catalog](https://hubbardbrook.org/d/hubbard-brook-data-catalog). We can access the data in \"comma-separated value\" format (.csv) directly through pandas. Below, a code segment is provided to read the data from the online catalog into a pandas [DataFrame](https://pandas.pydata.org/pandas-docs/stable/reference/api/pandas.DataFrame.html) object. The structure of this object basically consists of serveral named columns of data, which include the number of days since the start of the experiment (\"n_day\"), the date (\"date\"), as well as the maximum, minimum, and average temperature recorded (\"Tmax\",\"Tmin\",\"Tave\"). As you will see, the dataset consists of daily temperature records starting on October 20, 1955. This particular data comes from a temperature station named STA1. The data can be found on the class github repository under data/lab_03/hubbard_brook/hubbard_brook_temperature.csv'\n",
    "\n",
    "$\\color{green}{\\text{*Note, you are not expected to be an expert on pandas data structures. Here, all code segments required to read and work with the data are provided.}}$\n",
    "\n",
    "**If you don't already have pandas installed, you can install it by typing the following line in your terminal**\n",
    "\n",
    "`conda install pandas `\n"
   ]
  },
  {
   "cell_type": "code",
   "execution_count": 2,
   "metadata": {},
   "outputs": [
    {
     "data": {
      "text/html": [
       "<div>\n",
       "<style scoped>\n",
       "    .dataframe tbody tr th:only-of-type {\n",
       "        vertical-align: middle;\n",
       "    }\n",
       "\n",
       "    .dataframe tbody tr th {\n",
       "        vertical-align: top;\n",
       "    }\n",
       "\n",
       "    .dataframe thead th {\n",
       "        text-align: right;\n",
       "    }\n",
       "</style>\n",
       "<table border=\"1\" class=\"dataframe\">\n",
       "  <thead>\n",
       "    <tr style=\"text-align: right;\">\n",
       "      <th></th>\n",
       "      <th>n_day</th>\n",
       "      <th>date</th>\n",
       "      <th>Tmax</th>\n",
       "      <th>Tmin</th>\n",
       "      <th>Tave</th>\n",
       "    </tr>\n",
       "  </thead>\n",
       "  <tbody>\n",
       "    <tr>\n",
       "      <th>0</th>\n",
       "      <td>0</td>\n",
       "      <td>1955-10-20</td>\n",
       "      <td>12.0</td>\n",
       "      <td>4.0</td>\n",
       "      <td>8.0</td>\n",
       "    </tr>\n",
       "    <tr>\n",
       "      <th>1</th>\n",
       "      <td>1</td>\n",
       "      <td>1955-10-21</td>\n",
       "      <td>7.0</td>\n",
       "      <td>-3.0</td>\n",
       "      <td>2.0</td>\n",
       "    </tr>\n",
       "    <tr>\n",
       "      <th>2</th>\n",
       "      <td>2</td>\n",
       "      <td>1955-10-22</td>\n",
       "      <td>1.0</td>\n",
       "      <td>-5.0</td>\n",
       "      <td>-2.0</td>\n",
       "    </tr>\n",
       "    <tr>\n",
       "      <th>3</th>\n",
       "      <td>3</td>\n",
       "      <td>1955-10-23</td>\n",
       "      <td>5.0</td>\n",
       "      <td>-6.0</td>\n",
       "      <td>0.0</td>\n",
       "    </tr>\n",
       "    <tr>\n",
       "      <th>4</th>\n",
       "      <td>4</td>\n",
       "      <td>1955-10-24</td>\n",
       "      <td>13.0</td>\n",
       "      <td>0.0</td>\n",
       "      <td>6.0</td>\n",
       "    </tr>\n",
       "    <tr>\n",
       "      <th>...</th>\n",
       "      <td>...</td>\n",
       "      <td>...</td>\n",
       "      <td>...</td>\n",
       "      <td>...</td>\n",
       "      <td>...</td>\n",
       "    </tr>\n",
       "    <tr>\n",
       "      <th>23487</th>\n",
       "      <td>23487</td>\n",
       "      <td>2019-12-08</td>\n",
       "      <td>-4.5</td>\n",
       "      <td>-13.0</td>\n",
       "      <td>-9.0</td>\n",
       "    </tr>\n",
       "    <tr>\n",
       "      <th>23488</th>\n",
       "      <td>23488</td>\n",
       "      <td>2019-12-09</td>\n",
       "      <td>-4.0</td>\n",
       "      <td>-13.0</td>\n",
       "      <td>-8.5</td>\n",
       "    </tr>\n",
       "    <tr>\n",
       "      <th>23489</th>\n",
       "      <td>23489</td>\n",
       "      <td>2019-12-10</td>\n",
       "      <td>7.0</td>\n",
       "      <td>-5.0</td>\n",
       "      <td>1.0</td>\n",
       "    </tr>\n",
       "    <tr>\n",
       "      <th>23490</th>\n",
       "      <td>23490</td>\n",
       "      <td>2019-12-11</td>\n",
       "      <td>8.5</td>\n",
       "      <td>-1.0</td>\n",
       "      <td>4.0</td>\n",
       "    </tr>\n",
       "    <tr>\n",
       "      <th>23491</th>\n",
       "      <td>23491</td>\n",
       "      <td>2019-12-12</td>\n",
       "      <td>-1.0</td>\n",
       "      <td>-8.0</td>\n",
       "      <td>-4.5</td>\n",
       "    </tr>\n",
       "  </tbody>\n",
       "</table>\n",
       "<p>23492 rows × 5 columns</p>\n",
       "</div>"
      ],
      "text/plain": [
       "       n_day         date  Tmax  Tmin  Tave\n",
       "0          0   1955-10-20  12.0   4.0   8.0\n",
       "1          1   1955-10-21   7.0  -3.0   2.0\n",
       "2          2   1955-10-22   1.0  -5.0  -2.0\n",
       "3          3   1955-10-23   5.0  -6.0   0.0\n",
       "4          4   1955-10-24  13.0   0.0   6.0\n",
       "...      ...          ...   ...   ...   ...\n",
       "23487  23487   2019-12-08  -4.5 -13.0  -9.0\n",
       "23488  23488   2019-12-09  -4.0 -13.0  -8.5\n",
       "23489  23489   2019-12-10   7.0  -5.0   1.0\n",
       "23490  23490   2019-12-11   8.5  -1.0   4.0\n",
       "23491  23491   2019-12-12  -1.0  -8.0  -4.5\n",
       "\n",
       "[23492 rows x 5 columns]"
      ]
     },
     "execution_count": 2,
     "metadata": {},
     "output_type": "execute_result"
    }
   ],
   "source": [
    "import pandas as pd\n",
    "df = pd.read_csv('../data/lab_03/hubbard_brook/hubbard_brook_temperature.csv')\n",
    "df #output what the table looks like"
   ]
  },
  {
   "cell_type": "markdown",
   "metadata": {},
   "source": [
    "### Working with pandas dataframes\n",
    "\n",
    "We can access each of the fields stored in the pandas dataframe by calling the variable name like an index. It works somewhat like indexing a list, but you need to provide the variable name that you would like to access. See below for examples."
   ]
  },
  {
   "cell_type": "code",
   "execution_count": 3,
   "metadata": {},
   "outputs": [
    {
     "name": "stdout",
     "output_type": "stream",
     "text": [
      "0        8.0\n",
      "1        2.0\n",
      "2       -2.0\n",
      "3        0.0\n",
      "4        6.0\n",
      "        ... \n",
      "23487   -9.0\n",
      "23488   -8.5\n",
      "23489    1.0\n",
      "23490    4.0\n",
      "23491   -4.5\n",
      "Name: Tave, Length: 23492, dtype: float64\n",
      "0         1955-10-20\n",
      "1         1955-10-21\n",
      "2         1955-10-22\n",
      "3         1955-10-23\n",
      "4         1955-10-24\n",
      "            ...     \n",
      "23487     2019-12-08\n",
      "23488     2019-12-09\n",
      "23489     2019-12-10\n",
      "23490     2019-12-11\n",
      "23491     2019-12-12\n",
      "Name: date, Length: 23492, dtype: object\n"
     ]
    }
   ],
   "source": [
    "print(df['Tave'])\n",
    "print(df['date'])"
   ]
  },
  {
   "cell_type": "markdown",
   "metadata": {},
   "source": [
    "Now that we have read in the data, and have an idea of how it's organized, we will select a subset of the data to analyze. In particular, we will work with the daily average temperature at STA1 from Oct 20, 1955, until December 12, 2019. The code block below will select the average temperature data from STA1 and assign it to variable d. Additionally, the date strings for this time period will be assigned to the variable \"date\". Note the \"sampling rate\" is 1 sample per day."
   ]
  },
  {
   "cell_type": "code",
   "execution_count": 4,
   "metadata": {},
   "outputs": [],
   "source": [
    "d = df['Tave']\n",
    "date = df['date']"
   ]
  },
  {
   "cell_type": "markdown",
   "metadata": {},
   "source": [
    "###  <font color='red'>Question 1 </font> \n",
    "Using matplotlib, write a block of code to plot the time series of the average temperature. Make sure to label the axes properly, with day number (starting with 0) on the x-axis, and temperature (in degrees C) on the y-axis. \n",
    "\n",
    "Hint: The variables you should plot (day number vs the average temperature) can be accessed with df['n_day'] and df['Tave'], respectively. You can work with this data just like you would a numpy array. Also, if the default plot size is too small, remember you can set the figure size e.g.,\n",
    "\n",
    "`fig = plt.figure(figsize=[10,5])`"
   ]
  },
  {
   "cell_type": "code",
   "execution_count": 4,
   "metadata": {},
   "outputs": [],
   "source": [
    "#Answer Question 1 here.\n"
   ]
  },
  {
   "cell_type": "markdown",
   "metadata": {},
   "source": [
    "### Modeling the data\n",
    "\n",
    "Our challenge is to create a simple model of this data that can separate the yearly periodic temperature fluxuations from the long term trend (if it is apparent). The simplest model that could represent both the yearly temperature variation and the long term trend is \n",
    "\n",
    "$d_{i} = m_{1} + m_{2}t_{i} +m_3\\cos(2 \\pi t_{i}/P) + m_4\\sin(2 \\pi t_{i}/P) $\n",
    "\n",
    "where $d_{i}$ and $t_{i}$ are the the data and time (in days) at index $i$, respsectively, $P$ is the period (in our case 365.25 days), and $m_{1-4}$ are the model 'parameters' (i.e., the coefficients that we are solving for). This model represents the superposition of a harmonic function with a period of 1 year (to represent the annual seasonal temperature change), and a straight line (to represent the long term trend)."
   ]
  },
  {
   "cell_type": "markdown",
   "metadata": {},
   "source": [
    "###  <font color='red'>Question 2 </font> \n",
    "We will set up our least squares inversion by solving the equation G$\\textbf{m}$ = $\\textbf{d}$. Remember, $\\textbf{d}$ is the vector that contains your temperature data, and $\\textbf{m}$ is the vector that contains your model parameters. \n",
    "\n",
    "i) What are the dimensions of G (given as rows x columns)? Hint, think about what the dimenions of $\\textbf{m}$ and $\\textbf{d}$ are. \n",
    "\n",
    "ii) Are all of the rows of G the same? Explain why or why not.\n"
   ]
  },
  {
   "cell_type": "code",
   "execution_count": 5,
   "metadata": {},
   "outputs": [],
   "source": [
    "#Answer Question 2 here.\n"
   ]
  },
  {
   "cell_type": "markdown",
   "metadata": {},
   "source": [
    "###  <font color='red'>Question 3 </font> \n",
    "#### Build the G matrix. \n",
    "\n",
    "Think carefully about which each of the columns represents (e.g., think about what the functional form of each column should look like). Hint, first initialize G as an empty matrix (e.g., with np.zeros) with size N x M, where N is the number of data points, and M is the number of model parameters. Next, fill in each column based on the equation of our model.\n",
    "\n",
    "Bonus. Use matplotlib's \"imshow\" to visualize the G matrix. Make sure to adjust the colorscale (setting the vmin and vmax parameters) so that the detailed structure of the matrix is apparent. Good values of vmin and vmax are -2 and 2, respectively. Also set the 'aspect' parameter to 'auto'. https://matplotlib.org/stable/api/_as_gen/matplotlib.pyplot.imshow.html"
   ]
  },
  {
   "cell_type": "code",
   "execution_count": 6,
   "metadata": {},
   "outputs": [],
   "source": [
    "#Answer Question 3 here.\n"
   ]
  },
  {
   "cell_type": "markdown",
   "metadata": {},
   "source": [
    "###  <font color='red'>Question 4 </font> \n",
    "i) Find the least squares solution using [numpy.linalg.lstsq](https://numpy.org/doc/stable/reference/generated/numpy.linalg.lstsq.html). This function takes the G matrix and the data vector as arguments, and will calculate the least squares solution. As an output, it returns a list of items. The first item in the list is an array of the best fitting model parameters (in this case it will be an array containing $m_1, m_2, m_3$ and $m_4$). \n",
    "\n",
    "ii) What is the value of the slope of the linear trend? *Think about the units!*"
   ]
  },
  {
   "cell_type": "code",
   "execution_count": 7,
   "metadata": {},
   "outputs": [],
   "source": [
    "#Answer Question 4 here.\n"
   ]
  },
  {
   "cell_type": "markdown",
   "metadata": {},
   "source": [
    "###  <font color='red'>Question 5 </font> \n",
    "\n",
    "Plot your model against the observed data. To generate \"synthetic\" data (i.e., the data that your model predicts), use the equation $\\mathbf{d_{pre}} = \\mathbf{G} \\mathbf{m_{lsq}}$, where $\\mathbf{d_{pre}}$ is the predicted data, and $\\mathbf{m_{lsq}}$ is the vector containing best fitting model parameters. *Hint*, use np.dot for matrix-vector multiplication. In your plot, make sure to clearly label the axes, and also use a legend to show which data is the observed, and which is the modeled. "
   ]
  },
  {
   "cell_type": "code",
   "execution_count": 8,
   "metadata": {},
   "outputs": [],
   "source": [
    "#Answer Question 5 here.\n"
   ]
  },
  {
   "cell_type": "markdown",
   "metadata": {},
   "source": [
    "###  <font color='red'>Question 6 </font>\n",
    " i) Based on the slope of the linear trend you found, by how approximately much has Hubbard Brook warmed or cooled on average between 1955 and 2020?\n",
    "\n",
    " ii) If the trend continues how much warmer / colder will Hubbard Brook be in 2050?"
   ]
  },
  {
   "cell_type": "code",
   "execution_count": 9,
   "metadata": {},
   "outputs": [],
   "source": [
    "#Answer Question 6 here\n"
   ]
  },
  {
   "cell_type": "markdown",
   "metadata": {},
   "source": [
    "## Part 2, Synthetic moment tensor inversion\n",
    "\n",
    "In some cases, a seismic moment tensor inversion can be solved as a linear inverse problem. In other words, we can find a best fitting moment tensor by solving a linear system of equations of the form $\\mathbf{d} = \\mathbf{G} \\mathbf{m}$. The construction of the $\\mathbf{G}$ matrix is much more complicated than the example above, because it requires numerically modeling synthetic seismograms for each component of the moment tensor. In the example below, I have precomputed these for you. \n",
    "\n",
    "The system of equations that describes the linear moment tensor inversion is\n",
    "\n",
    "$\n",
    "\\begin{bmatrix}\n",
    "d_1 \\\\\n",
    "d_2 \\\\\n",
    "d_3 \\\\\n",
    "d_4 \\\\\n",
    "\\vdots \\\\\n",
    "d_k\n",
    "\\end{bmatrix}\n",
    "= \n",
    "\\begin{bmatrix}\n",
    "G_{11} & G_{12} & G_{13} & \\ldots & G_{16}\\\\\n",
    "G_{21} & G_{22} & G_{23} & \\ldots & G_{26}\\\\\n",
    "G_{31} & G_{32} & G_{33} & \\ldots & G_{36}\\\\\n",
    "G_{41} & G_{42} & G_{43} & \\ldots & G_{46}\\\\\n",
    "\\vdots & \\vdots & \\vdots & \\vdots & \\vdots\\\\\n",
    "G_{k1} & G_{k2} & G_{k3} & \\ldots & G_{k6}\\\\\n",
    "\\end{bmatrix}\n",
    "\\begin{bmatrix}\n",
    "m_{1}\\\\\n",
    "m_{2}\\\\\n",
    "m_{3}\\\\\n",
    "\\vdots\\\\\n",
    "m_{6}\\\\\n",
    "\\end{bmatrix}$\n",
    "\n",
    "where $\\mathbf{d}$ is the data vector (i.e., the observed seismogram(s)), $\\mathbf{G}$ is the system matrix containing the 'synthetic' Green's functions, and $\\mathbf{m}$ is a vector containing the 6 unknown moment tensor parameters. Each column of $\\mathbf{G}$ contains a synthetic Green's function corresponding to one of the six independent moment tensor components. We will order the components as follows [$M_{RR}, M_{\\theta\\theta}, M_{\\phi\\phi}, M_{R\\theta}, M_{R\\phi}, M_{\\theta\\phi}$]. In other words the first column of $\\mathbf{G}$ should contain the synthetic Green's function corresponding to the force couple $M_{RR}$, the second column of $\\mathbf{G}$ should contain the synthetic Green's function corresponding to the force couple $M_{\\theta\\theta}$, and so on."
   ]
  },
  {
   "cell_type": "markdown",
   "metadata": {},
   "source": [
    "In this example, we will be using 'pretend' seismic data from an earthquake that took place in Mineral, Virginia in 2011. The IRIS event page for this earthquake is here: https://earthquake.usgs.gov/earthquakes/eventpage/se609212/executive. You can find the data necessary for this exercise on the class repository in data/lab_03/moment_tensor_inversion. In that directory, you will find both the 'observed' data (it's not really observed data, but we can pretend), and the 'synthetic' Green's functions, corresponding to each of the moment tensor force couples. Both the observed and synthetic data correspond to seismic data at a single station IU.ANMO, which is located in Albuquerque, New Mexico. Thus, here we are performing a moment tensor based on just one seismogram. In practice, dozens of seismograms from different stations are used for moment tensor inversions. However, the problem would be solved in the same manner as we are doing below, only the data vector $\\mathbf{d}$ and system matrix $\\mathbf{G}$ would be larger since there are more seismograms.\n",
    "\n",
    "First, let's plot the 'observed' data and synthetic Green's functions. "
   ]
  },
  {
   "cell_type": "code",
   "execution_count": 10,
   "metadata": {},
   "outputs": [
    {
     "data": {
      "image/png": "[encoded data removed]",
      "text/plain": [
       "<Figure size 800x250 with 1 Axes>"
      ]
     },
     "metadata": {},
     "output_type": "display_data"
    }
   ],
   "source": [
    "#plot 'observed' data\n",
    "st_obs = obspy.read('../data/lab_03/moment_tensor_inversion/Observed*')\n",
    "fig = st_obs.plot()"
   ]
  },
  {
   "cell_type": "code",
   "execution_count": 11,
   "metadata": {},
   "outputs": [
    {
     "data": {
      "image/png": "[encoded data removed]",
      "text/plain": [
       "<Figure size 800x250 with 1 Axes>"
      ]
     },
     "metadata": {},
     "output_type": "display_data"
    }
   ],
   "source": [
    "#plot Green's functions\n",
    "st_syn = obspy.read('../data/lab_03/moment_tensor_inversion/Greens*')\n",
    "fig = st_syn.plot()\n",
    "\n",
    "#Note, the plot turns red. Obspy is angry with you because you gave it multiple seismograms with the \n",
    "#same channel and station code. This is fine though, since there should be 6 Green's functions for ANMO!"
   ]
  },
  {
   "cell_type": "markdown",
   "metadata": {},
   "source": [
    "Our problem is essentially to find some linear combination of the six Green's functions plotted above, that will reproduce the 'observed' data. Below, I provide functions to create both the $\\mathbf{G}$ matrix (make_G), and the data vector $\\mathbf{d}$ (make_d_vec)."
   ]
  },
  {
   "cell_type": "code",
   "execution_count": 12,
   "metadata": {},
   "outputs": [],
   "source": [
    "def make_G():\n",
    "\n",
    "    #read Green's functions\n",
    "    G_m_rr = obspy.read('../data/lab_03/moment_tensor_inversion/Greens*m_rr*.SAC')[0] #read m_rr Green's function\n",
    "    G_m_tt = obspy.read('../data/lab_03/moment_tensor_inversion/Greens*m_tt*.SAC')[0] #read m_tt Green's function\n",
    "    G_m_pp = obspy.read('../data/lab_03/moment_tensor_inversion/Greens*m_pp*.SAC')[0] #read m_pp Green's function\n",
    "    G_m_rt = obspy.read('../data/lab_03/moment_tensor_inversion/Greens*m_rt*.SAC')[0] #read m_rt Green's function\n",
    "    G_m_rp = obspy.read('../data/lab_03/moment_tensor_inversion/Greens*m_rp*.SAC')[0] #read m_rp Green's function\n",
    "    G_m_tp = obspy.read('../data/lab_03/moment_tensor_inversion/Greens*m_tp*.SAC')[0] #read m_tp Green's function\n",
    "    \n",
    "    #turn the Green's functions into a numpy array\n",
    "    G = np.array((G_m_rr.data,G_m_tt.data,G_m_pp.data,G_m_rt.data,G_m_rp.data,G_m_tp.data))\n",
    "    G = G.T #transpose row and column vectors- the line above sets the Green's functions as rows\n",
    "    \n",
    "    return G"
   ]
  },
  {
   "cell_type": "code",
   "execution_count": 13,
   "metadata": {},
   "outputs": [],
   "source": [
    "def make_d_vec():\n",
    "    \n",
    "    tr = obspy.read('../data/lab_03/moment_tensor_inversion/Observed*.SAC')[0]\n",
    "    data_vec = tr.data\n",
    "            \n",
    "    return data_vec"
   ]
  },
  {
   "cell_type": "markdown",
   "metadata": {},
   "source": [
    "###  <font color='red'>Question 7 </font>\n",
    "Use the functions make_G and make_d_vec to build the $\\mathbf{G}$ and $\\mathbf{d}$. Then, use numpy.linalg.solve to solve the system of equations. What is the best fitting moment tensor?\n",
    "\n",
    "Hint: Remember, numpy.linalg.solve returns a list, the first of which is the best fitting model. In this case, it should be a list of the 6 model parameters, which correspond to the values of [$M_{RR}, M_{\\theta\\theta}, M_{\\phi\\phi}, M_{R\\theta}, M_{R\\phi}, M_{\\theta\\phi}$]"
   ]
  },
  {
   "cell_type": "code",
   "execution_count": 14,
   "metadata": {},
   "outputs": [],
   "source": [
    "#Answer Question 7 here.\n"
   ]
  },
  {
   "cell_type": "markdown",
   "metadata": {},
   "source": [
    "###  <font color='red'>Question 8 </font>\n",
    "To generate the synthetic Green's functions, each force couple used a scalar moment of $1x10^{14}$ Nm. This means that in order to find the values of each moment tensor component in the units of Nm, each component of your best fitting solution should be scaled by $1x10^{14}$. Knowing this, what is the scalar moment $M_0$ of the source, in Nm?\n",
    "\n",
    "Hint, you can find the scalar moment using \n",
    "$M_0 = \\frac{1}{\\sqrt{2}}(\\sum_{ij}M_{ij}^2)^{1/2}$"
   ]
  },
  {
   "cell_type": "code",
   "execution_count": 15,
   "metadata": {},
   "outputs": [],
   "source": [
    "#Answer Q8 here\n"
   ]
  },
  {
   "cell_type": "markdown",
   "metadata": {},
   "source": [
    "###  <font color='red'>Question 9 </font>\n",
    "We can plot a 'beachball' diagram of the moment tensor using Obspy's imaging.beachball function. This function takes a list of the six independent moment tensor components (the same way we have been ordering things, [$M_{RR}, M_{\\theta\\theta}, M_{\\phi\\phi}, M_{R\\theta}, M_{R\\phi}, M_{\\theta\\phi}$]). Plot your best fitting moment tensor. What type of source is it? What tectonic stress regime would you expect to see this source?\n",
    "\n",
    "Hint: An example of how to plot a moment tensor is given below. Also, the units are unimportant when plotting. It does not need to be in Nm."
   ]
  },
  {
   "cell_type": "code",
   "execution_count": 16,
   "metadata": {},
   "outputs": [
    {
     "data": {
      "image/png": "[encoded data removed]",
      "text/plain": [
       "<Figure size 200x200 with 1 Axes>"
      ]
     },
     "metadata": {},
     "output_type": "display_data"
    },
    {
     "data": {
      "image/png": "[encoded data removed]",
      "text/plain": [
       "<Figure size 200x200 with 1 Axes>"
      ]
     },
     "execution_count": 16,
     "metadata": {},
     "output_type": "execute_result"
    }
   ],
   "source": [
    "from obspy.imaging.beachball import beachball\n",
    "mt = [-1,0,1,0,0,0]\n",
    "beachball(mt)"
   ]
  },
  {
   "cell_type": "code",
   "execution_count": 17,
   "metadata": {},
   "outputs": [],
   "source": [
    "#Answer Q9 here.\n"
   ]
  }
 ],
 "metadata": {
  "kernelspec": {
   "display_name": "Python 3 (ipykernel)",
   "language": "python",
   "name": "python3"
  },
  "language_info": {
   "codemirror_mode": {
    "name": "ipython",
    "version": 3
   },
   "file_extension": ".py",
   "mimetype": "text/x-python",
   "name": "python",
   "nbconvert_exporter": "python",
   "pygments_lexer": "ipython3",
   "version": "3.8.15"
  }
 },
 "nbformat": 4,
 "nbformat_minor": 2
}
